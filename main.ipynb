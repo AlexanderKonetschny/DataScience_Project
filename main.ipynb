{
 "cells": [
  {
   "cell_type": "markdown",
   "id": "ef50c606",
   "metadata": {},
   "source": [
    "# Machine Learning for Everybody – Full Course\n",
    "\n",
    "by Kylie Ying \n",
    "\n",
    "URL: https://www.youtube.com/watch?v=i_LwzRVP7bg&ab_channel=freeCodeCamp.org"
   ]
  },
  {
   "cell_type": "markdown",
   "id": "686e5387",
   "metadata": {},
   "source": [
    "## MAGIC Gamma Telescope\n",
    "dataset from: https://archive.ics.uci.edu/dataset/159/magic+gamma+telescope"
   ]
  }
 ],
 "metadata": {
  "language_info": {
   "name": "python"
  }
 },
 "nbformat": 4,
 "nbformat_minor": 5
}
